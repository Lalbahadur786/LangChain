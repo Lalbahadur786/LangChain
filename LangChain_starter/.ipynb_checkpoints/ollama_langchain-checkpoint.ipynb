{
 "cells": [
  {
   "cell_type": "markdown",
   "id": "7b2981f5-de6d-49a2-a485-e29fdbcfd871",
   "metadata": {},
   "source": [
    "#### Import ChatOllama"
   ]
  },
  {
   "cell_type": "code",
   "execution_count": 1,
   "id": "fdd36057-aa86-48be-a08f-c65119969d74",
   "metadata": {},
   "outputs": [],
   "source": [
    "from langchain_ollama import ChatOllama"
   ]
  },
  {
   "cell_type": "markdown",
   "id": "fe1dd1e2-3bb4-4fc0-8dc7-2e3b40ad357d",
   "metadata": {},
   "source": [
    "#### Connect to Ollama model"
   ]
  },
  {
   "cell_type": "code",
   "execution_count": 2,
   "id": "98c04889-5d88-4469-988b-464954af7b45",
   "metadata": {},
   "outputs": [],
   "source": [
    "llm = ChatOllama(model = \"llama3.2\", temperature = 0.8) # specify num_predict = int (if requires)"
   ]
  },
  {
   "cell_type": "markdown",
   "id": "d31af6e8-2308-4828-b2e6-3abb4eb8950a",
   "metadata": {},
   "source": [
    "#### Human system interaction"
   ]
  },
  {
   "cell_type": "code",
   "execution_count": 3,
   "id": "d8771cd1-ab05-46a7-bb4b-8a5f970a3888",
   "metadata": {},
   "outputs": [
    {
     "data": {
      "text/plain": [
       "'सगळी वाटने त्याचे सौंदर्य प्रस्फुटून आहे.'"
      ]
     },
     "execution_count": 3,
     "metadata": {},
     "output_type": "execute_result"
    }
   ],
   "source": [
    "from langchain_core.messages import HumanMessage, SystemMessage\n",
    "messages = [\n",
    "    SystemMessage(\"Translate the following from English into Marathi\"),\n",
    "    HumanMessage(\"How beautiful is the nature today!\"),\n",
    "]\n",
    "resp = llm.invoke(messages)\n",
    "resp.content"
   ]
  },
  {
   "cell_type": "markdown",
   "id": "a94aa840-f308-47e4-83d2-8c977c4e1380",
   "metadata": {},
   "source": [
    "#### System user interaction using ChatPromptTemplate()"
   ]
  },
  {
   "cell_type": "code",
   "execution_count": 4,
   "id": "597ff904-8124-4c8c-b373-967f41e49940",
   "metadata": {},
   "outputs": [
    {
     "data": {
      "text/plain": [
       "\"Here's one:\\n\\nWhy do programmers prefer dark mode?\\n\\nBecause light attracts bugs.\""
      ]
     },
     "execution_count": 4,
     "metadata": {},
     "output_type": "execute_result"
    }
   ],
   "source": [
    "from langchain_core.prompts import ChatPromptTemplate\n",
    "prompt_template = ChatPromptTemplate([\n",
    "    (\"system\", \"You are a helpful assistant\"),\n",
    "    (\"user\", \"Tell me a joke about {topic}\")])\n",
    "prompt = prompt_template.invoke({\"topic\", \"Computer science\"})\n",
    "resp = llm.invoke(prompt)\n",
    "resp.content"
   ]
  },
  {
   "cell_type": "markdown",
   "id": "2996b3e0-1e15-4dba-aa08-41d10a090809",
   "metadata": {},
   "source": [
    "#### Create user prompt using PromptTemplate"
   ]
  },
  {
   "cell_type": "code",
   "execution_count": 11,
   "id": "0507bff2-ee9e-4db7-bb16-c26bf44b364c",
   "metadata": {},
   "outputs": [
    {
     "data": {
      "text/plain": [
       "'Dilwale Dulhania Le Jayenge (1995) - A classic romantic drama.'"
      ]
     },
     "execution_count": 11,
     "metadata": {},
     "output_type": "execute_result"
    }
   ],
   "source": [
    "from langchain_core.prompts import PromptTemplate\n",
    "movie_title_prompt__template = PromptTemplate.from_template(\"Suggest me only one movie title in 1 to 10 words to watch in language {language} and of genre {genre}\")\n",
    "movie_title_prompt = movie_title_prompt__template.invoke({\"language\": \"Hindi\", \"genre\": \"Romantic\"})\n",
    "resp = llm.invoke(movie_title_prompt)\n",
    "resp.content"
   ]
  },
  {
   "cell_type": "markdown",
   "id": "c785b3c5-6594-4f5c-b65c-ed8058842648",
   "metadata": {},
   "source": [
    "#### Simple chaining in langchain"
   ]
  },
  {
   "cell_type": "code",
   "execution_count": 6,
   "id": "9362971b-beb3-4a91-aee3-a0279020ef7c",
   "metadata": {},
   "outputs": [
    {
     "data": {
      "text/plain": [
       "'\"Satyakam\" (Hindi: सत्यकाम) - a psychological thriller film released in 2018, directed by Sanjay Leela Bhansali.'"
      ]
     },
     "execution_count": 6,
     "metadata": {},
     "output_type": "execute_result"
    }
   ],
   "source": [
    "from langchain_core.output_parsers import StrOutputParser\n",
    "movie_title_chain = movie_title_prompt__template | llm | StrOutputParser()   # This is the chaining\n",
    "movie_title_chain.invoke({\"language\": \"Hindi\", \"genre\": \"Thriller\"})"
   ]
  },
  {
   "cell_type": "code",
   "execution_count": 8,
   "id": "ae4551ad-dabb-4edb-99b5-a4b0ecfc0c2e",
   "metadata": {},
   "outputs": [],
   "source": [
    "movie_summary_prompt = PromptTemplate.from_template(\"Give me 1-2 lines of summary of movie {movie_title}\")"
   ]
  },
  {
   "cell_type": "markdown",
   "id": "ca0a1091-f2d2-445f-9626-337e3930b927",
   "metadata": {},
   "source": [
    "#### Casecade chaining and runnable lambda sequence / extended chaining"
   ]
  },
  {
   "cell_type": "code",
   "execution_count": 15,
   "id": "3334b383-6c9b-41f8-b4a9-f66aac49da05",
   "metadata": {},
   "outputs": [],
   "source": [
    "from langchain_core.runnables import RunnableLambda\n",
    "# print_movie_title = RunnableLambda(lambda x: print(x))\n",
    "casecade_chain = {\"movie_title\": movie_title_chain} | movie_summary_prompt | llm | StrOutputParser()"
   ]
  },
  {
   "cell_type": "code",
   "execution_count": 16,
   "id": "8f678be5-82d5-493f-a495-e58e73b9b1fd",
   "metadata": {},
   "outputs": [
    {
     "data": {
      "text/plain": [
       "'Here is a 2-line summary of the movie \"Rang De Basanti\":\\n\\nThe film follows Aryan, a young and idealistic journalist who reunites with his friends from the India Freedom Movement in Delhi. Together, they embark on a journey to India Gate to plant the Indian flag at midnight, sparking a chain reaction of events that challenge their lives and the nation\\'s history.'"
      ]
     },
     "execution_count": 16,
     "metadata": {},
     "output_type": "execute_result"
    }
   ],
   "source": [
    "casecade_chain.invoke({\"language\": \"Hindi\", \"genre\": \"Biography\"})"
   ]
  },
  {
   "cell_type": "markdown",
   "id": "cb98b346-6da2-4a51-8a04-a4c4753d9e82",
   "metadata": {},
   "source": [
    "#### Extended chaining with Runnables sequenece"
   ]
  },
  {
   "cell_type": "code",
   "execution_count": 22,
   "id": "f736b112-2132-4f31-8e22-c8c34c9c6949",
   "metadata": {},
   "outputs": [
    {
     "data": {
      "text/plain": [
       "'Here\\'s a brief summary:\\n\\n\"Rang De Basanti\" is an Indian patriotic drama film that follows the story of Aarav (Ajay Devgn), an Englishman who joins a group of Indian activists in 1947 to protest British colonial rule and fight for India\\'s independence. The film explores themes of love, sacrifice, and national pride as the group takes a bold stand against the British government.'"
      ]
     },
     "execution_count": 22,
     "metadata": {},
     "output_type": "execute_result"
    }
   ],
   "source": [
    "from langchain_core.runnables import RunnableSequence\n",
    "extended_chain = RunnableSequence({\"movie_title\": movie_title_chain}, movie_summary_prompt, llm, StrOutputParser())\n",
    "summary = extended_chain.invoke({\"language\": \"Hindi\", \"genre\": \"Biography\"})\n",
    "summary"
   ]
  },
  {
   "cell_type": "markdown",
   "id": "2c8985f6-f2a2-4a50-959f-17c4bb9cd50b",
   "metadata": {},
   "source": [
    "#### Parallel runnable  ( convert movie summary into hindi and spanish at the same time)"
   ]
  },
  {
   "cell_type": "code",
   "execution_count": 21,
   "id": "c5837d07-ce6e-4dd5-8f84-d95737707098",
   "metadata": {},
   "outputs": [
    {
     "data": {
      "text/plain": [
       "{'hindi': 'उमरावत जान एक 2010 की भारतीय ड्रामा फिल्म है जो उमरावत जान की कहानी सुनाती है, एक महिला दास्तानबाज़ जो एक समृद्ध व्यापारी से प्यार करती है और उसके साथ रहने के लिए अपने समय की सामाजिक दबावों को नेविगेट करने की आवश्यकता महसूस करती है।  यह फिल्म सलमान रुश्दी के उपन्यास \"द मिडनाइट किड्स\" पर आधारित नहीं है, लेकिन वास्तव में सलमान खान की उर्मा जान, 1993 की एक साथी फिल्म की कहानी से प्रेरित है।',\n",
       " 'spanish': '\"Umrao Jaan\" es una película dramática india de 2010 que cuenta la historia de Umrao Jaan, una cortesana que se enamora de un rico comerciante y debe navegar las presiones sociales de su época para estar con él. \\n\\nEsta película no es una adaptación del libro \"Los niños de medianoche\" de Salman Rushdie'}"
      ]
     },
     "execution_count": 21,
     "metadata": {},
     "output_type": "execute_result"
    }
   ],
   "source": [
    "from langchain_core.runnables import RunnableParallel\n",
    "translate_hindi_chain = ChatPromptTemplate.from_template(\"Translate {summary} to hindi\") | llm | StrOutputParser()\n",
    "translate_spanish_chain = ChatPromptTemplate.from_template(\"Translate {summary} to spanish\") | llm | StrOutputParser()\n",
    "translated_runnable = RunnableParallel(hindi=translate_hindi_chain, spanish=translate_spanish_chain)\n",
    "translated_summary = translated_runnable.invoke({\"summary\": summary})\n",
    "translated_summary"
   ]
  },
  {
   "cell_type": "markdown",
   "id": "9e28a747-bb4e-47b2-aba5-ce12c3622b39",
   "metadata": {},
   "source": [
    "#### Routing between sub-chain"
   ]
  },
  {
   "cell_type": "code",
   "execution_count": 43,
   "id": "03d9b899-909d-436f-9f33-55a897c2fefb",
   "metadata": {},
   "outputs": [],
   "source": [
    "mathematic_chain = PromptTemplate.from_template(\"Solve the mathematic expression {user_input}\") | llm | StrOutputParser()\n",
    "history_chain = PromptTemplate.from_template(\"Give historical background of the topic {user_input}\") | llm | StrOutputParser()\n",
    "user_prompt_chain = PromptTemplate.from_template(\"Classify the following statement into mathematic or historic, Do not respond with more than one word <question>{user_input}</question>\") | llm | StrOutputParser()"
   ]
  },
  {
   "cell_type": "code",
   "execution_count": 44,
   "id": "02350b45-b9da-4ad5-aeba-e9717fecbe15",
   "metadata": {},
   "outputs": [],
   "source": [
    "def route(msg_class):\n",
    "    if  \"mathematic\" in msg_class[\"topic\"]:\n",
    "        return mathematic_chain\n",
    "    else:\n",
    "        return history_chain"
   ]
  },
  {
   "cell_type": "code",
   "execution_count": 45,
   "id": "eaa343a6-6fc5-44ef-85fe-d780cd90031f",
   "metadata": {},
   "outputs": [
    {
     "data": {
      "text/plain": [
       "\"The history of India is a rich and diverse tapestry that spans thousands of years, with various empires, dynasties, and cultural influences leaving their mark on the subcontinent. Here's an overview of the major periods in Indian history:\\n\\n**Ancient Period (3300 BCE - 500 CE)**\\n\\n1. **Indus Valley Civilization (3300 BCE - 1300 BCE):** The Indus Valley Civilization is considered one of the oldest civilizations in the world, with cities like Mohenjo-Daro and Harappa showcasing advanced urban planning, architecture, and water management systems.\\n2. **Vedic Period (1500 BCE - 500 BCE):** The Vedic period saw the rise of Hinduism, with the Vedas being composed during this time. This was a golden age for ancient India, marked by significant cultural and philosophical advancements.\\n3. **Mauryan Empire (322 BCE - 185 BCE):** Chandragupta Maurya founded this empire, which stretched from present-day Afghanistan to Southeast Asia. The Mauryans made significant contributions to governance, trade, and art.\\n\\n**Classical Period (500 BCE - 500 CE)**\\n\\n1. **Gupta Empire (320 CE - 550 CE):** This period saw a resurgence of Hinduism and the development of Indian classical music, dance, and art.\\n2. **Kushan Empire (60 CE - 375 CE):** The Kushans were Indo-Greek warriors who expanded their empire from Central Asia to present-day Pakistan.\\n3. **Pallava Dynasty (275 CE - 897 CE):** This dynasty saw significant advancements in Hindu temples, sculptures, and art.\\n\\n**Medieval Period (500 CE - 1500 CE)**\\n\\n1. **Rajputs (6th century CE - 18th century CE):** Rajput kingdoms ruled much of northern India, with notable dynasties like the Mughals, Marathas, and Rajput princes.\\n2. **Mughal Empire (1526 CE - 1857 CE):** Founded by Babur, this empire stretched from present-day Pakistan to Bangladesh and was known for its cultural achievements, including art, architecture, literature, and cuisine.\\n\\n**British Period (1757 CE - 1947 CE)**\\n\\n1. **East India Company (1612 CE - 1858 CE):** The East India Company established British rule in India through a series of military campaigns.\\n2. **British Raj (1858 CE - 1947 CE):** After the Indian Rebellion of 1857, the British Raj ruled India for nearly three centuries.\\n\\n**Post-Independence Period (1947 CE - present)**\\n\\n1. **Indian Independence Movement (1919 CE - 1947 CE):** The Indian National Congress led the struggle for independence from British rule.\\n2. **Modern India (1947 CE - present):** Modern India has seen rapid economic growth, technological advancements, and significant social changes.\\n\\nThis brief overview provides a glimpse into the vast and complex history of India.\""
      ]
     },
     "execution_count": 45,
     "metadata": {},
     "output_type": "execute_result"
    }
   ],
   "source": [
    "full_chain = {\"topic\": user_prompt_chain, \"user_input\": lambda x: x[\"user_input\"]} | RunnableLambda(route)\n",
    "full_chain.invoke({\"user_input\": \"history of india\"})"
   ]
  },
  {
   "cell_type": "code",
   "execution_count": null,
   "id": "74b6e38e-6990-480e-87f2-72425135c7fe",
   "metadata": {},
   "outputs": [],
   "source": []
  }
 ],
 "metadata": {
  "kernelspec": {
   "display_name": "Python 3 (ipykernel)",
   "language": "python",
   "name": "python3"
  },
  "language_info": {
   "codemirror_mode": {
    "name": "ipython",
    "version": 3
   },
   "file_extension": ".py",
   "mimetype": "text/x-python",
   "name": "python",
   "nbconvert_exporter": "python",
   "pygments_lexer": "ipython3",
   "version": "3.12.5"
  }
 },
 "nbformat": 4,
 "nbformat_minor": 5
}
